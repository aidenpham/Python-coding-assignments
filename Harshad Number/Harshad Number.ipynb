{
 "cells": [
  {
   "cell_type": "markdown",
   "metadata": {},
   "source": [
    "## Assignment Week 2\n",
    "\n",
    "For this week you need to write a function that determines if a number is a <A HREF=\"https://en.wikipedia.org/wiki/Harshad_number\">Harshad number</A> and then uses this function to write another function that determines the *i-th* Harshad number. "
   ]
  },
  {
   "cell_type": "markdown",
   "metadata": {},
   "source": [
    "A Harshad number is an integer that is divisible by the sum of its digits. For example, 81 is a Harshad number, because 8+1 = 9 and 81/9 = 9. The first Harshad number is 1.\n",
    "\n",
    "**Assignment 2.1**\n",
    "\n",
    "Write a function **isHarshad** that takes as input an integer and that has as output **True**, if the integer is a Harshad number, and **False** if it is not.<BR>\n",
    "For example, **isHarshad(81)** should have ouput **True**.\n",
    "\n",
    "Hint: Use **str** to convert the input to a string, see Chapter 8 of the Think Python book. "
   ]
  },
  {
   "cell_type": "code",
   "execution_count": null,
   "metadata": {},
   "outputs": [],
   "source": [
    "# Your code goes here\n",
    "a = int(input(\"Please type a positive integer: \"))\n",
    "\n",
    "def isHarshad(a):\n",
    "    sum=0\n",
    "    for j in str(a):\n",
    "        sum += int(j)\n",
    "    if (a % sum == 0):\n",
    "        return True\n",
    "    else:\n",
    "        return False\n",
    "\n",
    "isHarshad(a)"
   ]
  },
  {
   "cell_type": "markdown",
   "metadata": {},
   "source": [
    "**Assignment 2.2**\n",
    "\n",
    "Write a function **ithHarshad** that takes as input an integer *i* and prints the *ith* Harshad number on screen. Make that function has no output, i.e., write a **void** function.<BR>\n",
    "For example, **ithHarshad(25)** should print:\n",
    "\n",
    "\"The first  25  Harshad numbers are:  [1, 2, 3, 4, 5, 6, 7, 8, 9, 10, 12, 18, 20, 21, 24, 27, 30, 36, 40, 42, 45, 48, 50, 54, 60]\"\n",
    "\n",
    "Hint: use the **isHarshad** function above."
   ]
  },
  {
   "cell_type": "code",
   "execution_count": null,
   "metadata": {},
   "outputs": [],
   "source": [
    "# Your code goes here\n",
    "i = int(input(\"Please type an integer:\"))\n",
    "\n",
    "def isHarshad(a):\n",
    "    sum=0\n",
    "    for j in str(a):\n",
    "        sum += int(j)\n",
    "    if (a % sum == 0):\n",
    "        return True\n",
    "    else:\n",
    "        return False\n",
    "\n",
    "def ithHarshad(i):\n",
    "    list1 = []\n",
    "    count = 0\n",
    "    x = 0\n",
    "    while True:\n",
    "        x += 1\n",
    "        if isHarshad(x) == True:\n",
    "            list1 = list1 + [x]\n",
    "            count += 1\n",
    "        if count == i:\n",
    "            break\n",
    "    print(\"The first\", i, \"Harshad numbers are:\", list1)\n",
    "    \n",
    "ithHarshad(i)\n"
   ]
  }
 ],
 "metadata": {
  "kernelspec": {
   "display_name": "Python 3",
   "language": "python",
   "name": "python3"
  },
  "language_info": {
   "codemirror_mode": {
    "name": "ipython",
    "version": 3
   },
   "file_extension": ".py",
   "mimetype": "text/x-python",
   "name": "python",
   "nbconvert_exporter": "python",
   "pygments_lexer": "ipython3",
   "version": "3.7.3"
  }
 },
 "nbformat": 4,
 "nbformat_minor": 2
}
