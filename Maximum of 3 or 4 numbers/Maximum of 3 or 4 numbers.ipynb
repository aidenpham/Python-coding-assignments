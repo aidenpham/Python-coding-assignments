{
 "cells": [
  {
   "cell_type": "markdown",
   "metadata": {},
   "source": [
    "## Assignment Week 1\n",
    "\n",
    "In this first week we are looking at two things: *functions* (Chapter 3 of 'Think Python') and *conditional statements* (Chapter 5 of 'Think Python')."
   ]
  },
  {
   "cell_type": "markdown",
   "metadata": {},
   "source": [
    "**Assignment 1.1**\n",
    "\n",
    "Write a function **max3** that takes three integers as input and returns the largest number. Make sure that you test the program and check what happens if (some) inputs are the same. Can your program deal with all integers as input?  <br />\n",
    "**Note:** It is **not allowed** to use the built-in max function for the assignments in week 1."
   ]
  },
  {
   "cell_type": "code",
   "execution_count": 26,
   "metadata": {},
   "outputs": [
    {
     "name": "stdout",
     "output_type": "stream",
     "text": [
      "please type in first integer: 2\n",
      "please type in second integer: 3\n",
      "please type in third integer: -5\n",
      "The maximum number is:  3\n"
     ]
    }
   ],
   "source": [
    "# Your code goes here\n",
    "a=float(input(\"please type in first integer: \"))\n",
    "b=float(input(\"please type in second integer: \"))\n",
    "c=float(input(\"please type in third integer: \"))\n",
    "\n",
    "def max3(a,b,c):\n",
    "    if a>b and a>c:\n",
    "        return a\n",
    "    elif b>c:\n",
    "        return b\n",
    "    else:\n",
    "        return c\n",
    "        \n",
    "print(\"The maximum number is: \", round(max3(a,b,c)))"
   ]
  },
  {
   "cell_type": "markdown",
   "metadata": {},
   "source": [
    "**Assignment 1.2**\n",
    "\n",
    "Write another function **max3two** that again takes three integers as input and returns the largest number. However, if there are two largest numbers, then you need to return this largest number twice and if all three numbers are the same (and thus all the largest number) you need to return the same number three times.<BR>\n",
    "For example:<BR>\n",
    "**max3two(1,2,2) will print \"There are two maximum numbers, 2 and 2.\"**<BR>\n",
    "**max3two(1,1,1) will print \"There are three maximum numbers, 1, 1 and 1.**<BR>\n",
    "**max3two(1,2,3) will print \"The maximum number is 3.\"<BR>\n",
    "\n",
    "Hint: Use **max3** when writing the function **max3two**"
   ]
  },
  {
   "cell_type": "code",
   "execution_count": 25,
   "metadata": {},
   "outputs": [
    {
     "name": "stdout",
     "output_type": "stream",
     "text": [
      "please type in first integer: 3\n",
      "please type in second integer: 3\n",
      "please type in third integer: 1\n",
      "There are two maximum numbers, 3 and 3\n"
     ]
    }
   ],
   "source": [
    "# Your code goes here\n",
    "a=float(input(\"please type in first integer: \"))\n",
    "b=float(input(\"please type in second integer: \"))\n",
    "c=float(input(\"please type in third integer: \"))\n",
    " \n",
    "def max3two(a,b,c):\n",
    "    if a==b==c:\n",
    "        print(\"There are three maximum numbers,\",round(a),\",\",round(b),\"and\",round(c))\n",
    "    elif a==b==max3(a,b,c) or a==c==max3(a,b,c):\n",
    "        print(\"There are two maximum numbers,\",round(a),\"and\",round(a))\n",
    "    elif b==c==max3(a,b,c):\n",
    "        print(\"There are two maximum numbers,\",round(b),\"and\",round(c))\n",
    "    else:\n",
    "        print(\"The maximum number is: \", round(max3(a,b,c)))\n",
    "\n",
    "max3two(a,b,c)"
   ]
  },
  {
   "cell_type": "markdown",
   "metadata": {},
   "source": [
    "**Assignment 1.3**\n",
    "\n",
    "Use the function **max3** to write a function **max4** that takes four integers as input and returns the largest input parameter. "
   ]
  },
  {
   "cell_type": "code",
   "execution_count": 28,
   "metadata": {},
   "outputs": [
    {
     "name": "stdout",
     "output_type": "stream",
     "text": [
      "please type in first integer: 1\n",
      "please type in second integer: 2\n",
      "please type in third integer: 5\n",
      "please type in fourth integer: 5\n",
      "The maximum number is:  5\n"
     ]
    }
   ],
   "source": [
    "# Your code goes here\n",
    "a=float(input(\"please type in first integer: \"))\n",
    "b=float(input(\"please type in second integer: \"))\n",
    "c=float(input(\"please type in third integer: \"))\n",
    "d=float(input(\"please type in fourth integer: \"))\n",
    "\n",
    "def max4(a,b,c,d):\n",
    "    if d>max3(a,b,c):\n",
    "        return d\n",
    "    else:\n",
    "        return max3(a,b,c)\n",
    "        \n",
    "print(\"The maximum number is: \", round(max4(a,b,c,d)))"
   ]
  }
 ],
 "metadata": {
  "kernelspec": {
   "display_name": "Python 3",
   "language": "python",
   "name": "python3"
  },
  "language_info": {
   "codemirror_mode": {
    "name": "ipython",
    "version": 3
   },
   "file_extension": ".py",
   "mimetype": "text/x-python",
   "name": "python",
   "nbconvert_exporter": "python",
   "pygments_lexer": "ipython3",
   "version": "3.7.3"
  }
 },
 "nbformat": 4,
 "nbformat_minor": 2
}
