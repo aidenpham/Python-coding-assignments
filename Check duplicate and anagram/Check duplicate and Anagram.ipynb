{
 "cells": [
  {
   "cell_type": "markdown",
   "metadata": {},
   "source": [
    "## Bonus Assignment Week 3"
   ]
  },
  {
   "cell_type": "markdown",
   "metadata": {},
   "source": [
    "### Important! \n",
    "#### The idea is to solve the assignment with data structures that were presented to you in class up to this point. Therefore, it is not aloowed to use sets for this assignment."
   ]
  },
  {
   "cell_type": "markdown",
   "metadata": {},
   "source": [
    "**Assignment 3.1**\n",
    "\n",
    "Write a function called has_duplicates that takes a list as input and returns True if there\n",
    "is any element that appears more than once, and False otherwise. It should not modify the original list."
   ]
  },
  {
   "cell_type": "code",
   "execution_count": 2,
   "metadata": {},
   "outputs": [
    {
     "data": {
      "text/plain": [
       "True"
      ]
     },
     "execution_count": 2,
     "metadata": {},
     "output_type": "execute_result"
    }
   ],
   "source": [
    "def has_duplicates(list1):\n",
    "    i=0\n",
    "    for element in list1:\n",
    "        i += list1.count(element)\n",
    "    if i > len(list1):\n",
    "        return True\n",
    "    else:\n",
    "        return False\n",
    "\n",
    "#testing:\n",
    "has_duplicates([0,1,2,2])"
   ]
  },
  {
   "cell_type": "markdown",
   "metadata": {},
   "source": [
    "**Assignment 3.2**\n",
    "\n",
    "Use a dictionary to write a faster, simpler version of has_duplicates()."
   ]
  },
  {
   "cell_type": "code",
   "execution_count": 30,
   "metadata": {},
   "outputs": [
    {
     "data": {
      "text/plain": [
       "True"
      ]
     },
     "execution_count": 30,
     "metadata": {},
     "output_type": "execute_result"
    }
   ],
   "source": [
    "def has_duplicates2(list1):\n",
    "    dict1 = dict.fromkeys(list1)    # Elements of list are converted into keys of dictionary;\n",
    "                                    # duplicate elements in list will appear only once in dict\n",
    "                                    # because keys in dictionary are unique.\n",
    "    if len(dict1) == len(list1):    # If there are no duplicates, length of dict and list will be \n",
    "                                    # the same.\n",
    "        return False\n",
    "    else:\n",
    "        return True\n",
    "\n",
    "#testing:\n",
    "has_duplicates2([0,1,2,2])"
   ]
  },
  {
   "cell_type": "markdown",
   "metadata": {},
   "source": [
    "**Assignment 3.3**\n",
    "\n",
    "Write a program that reads a word list from a file (_words.txt_) and prints all the sets of\n",
    "words that are **anagrams**. An anagram is a word or phrase formed by rearranging the letters of a different word or phrase, typically using all the original letters exactly once.\n",
    "\n",
    "Here is an example of what the output might look like:\n",
    "\n",
    "['deltas', 'desalt', 'lasted', 'salted', 'slated', 'staled']\n",
    "\n",
    "['retainers', 'ternaries']\n",
    "\n",
    "['generating', 'greatening']\n",
    "\n",
    "['resmelts', 'smelters', 'termless']\n",
    "\n",
    "**Hint:** you might want to build a dictionary that maps from a collection of letters to a list\n",
    "of words that can be spelled with those letters. How can you represent the\n",
    "collection of letters in a way that can be used as a key?"
   ]
  },
  {
   "cell_type": "code",
   "execution_count": 4,
   "metadata": {},
   "outputs": [
    {
     "name": "stdout",
     "output_type": "stream",
     "text": [
      "['aba', 'aab']\n",
      "['acaba', 'abaca']\n"
     ]
    }
   ],
   "source": [
    "def signature(s):\n",
    "    sig = list(s)                     # A word (string) is converted into a signature (list).\n",
    "    sig.sort()                        # The letters in the list are sorted alphabetically.\n",
    "    sig = ''.join(sig)                # The list is converted back into a string;\n",
    "                                      # and letters in this string are separated by whitespace.\n",
    "    return sig\n",
    "\n",
    "\n",
    "def anagrams(filename):\n",
    "    d = {}\n",
    "    for line in open(filename):\n",
    "        word = line.strip().lower()   # Opening the text file.\n",
    "        i = signature(word)           # Each word is converted into its signature (a string).\n",
    "                                      \n",
    "        if i not in d:                    # If its signature is not in dictionary, a word will be\n",
    "            d[i] = [word]             # added as value in dictionary, and its signature becomes \n",
    "                                      # the orresponding key.\n",
    "        \n",
    "        else:                         # If its signature is already in dictionary, a word\n",
    "            d[i].append(word)         # becomes the next value for the same key (This key will\n",
    "                                      # have several values).\n",
    "    \n",
    "    for j in d.values():              # If a key has several values (length of value > 1),\n",
    "        if len(j) > 1:                # that means it is signature of anagrams.\n",
    "            print (j)\n",
    "        \n",
    "\n",
    "#testing:           \n",
    "anagrams('words.txt')\n",
    "\n"
   ]
  }
 ],
 "metadata": {
  "kernelspec": {
   "display_name": "Python 3",
   "language": "python",
   "name": "python3"
  },
  "language_info": {
   "codemirror_mode": {
    "name": "ipython",
    "version": 3
   },
   "file_extension": ".py",
   "mimetype": "text/x-python",
   "name": "python",
   "nbconvert_exporter": "python",
   "pygments_lexer": "ipython3",
   "version": "3.7.3"
  }
 },
 "nbformat": 4,
 "nbformat_minor": 2
}
