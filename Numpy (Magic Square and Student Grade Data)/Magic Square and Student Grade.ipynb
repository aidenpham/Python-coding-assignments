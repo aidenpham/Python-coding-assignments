{
 "cells": [
  {
   "cell_type": "markdown",
   "metadata": {
    "collapsed": true
   },
   "source": [
    "## Bonus Assignment Week 5\n",
    "\n",
    "This week we are using numpy and matplotlib"
   ]
  },
  {
   "cell_type": "code",
   "execution_count": 1,
   "metadata": {},
   "outputs": [],
   "source": [
    "# Start by loading the relevant libraries\n",
    "import numpy as np"
   ]
  },
  {
   "cell_type": "markdown",
   "metadata": {
    "collapsed": true
   },
   "source": [
    "### Numpy: Magic Square\n",
    "\n",
    "A <A HREF=\"https://en.wikipedia.org/wiki/Magic_square\">magic square</A> is a matrix in which the sum of all rows, columns and diagonals are the same.\n",
    "You can verify this fact for the matrix below by:\n",
    "  * calculating an array containing the sums of all rows\n",
    "  * calculate the minimum and maximum of this array\n",
    "  * calculating an array containing the sum of all columns\n",
    "  * calculate the minimum and maximum of this array\n",
    "  * calculating the sum of both diagonals\n",
    "  * check that both minimums and maximums and diagonals are the same value.\n",
    "\n",
    "```python\n",
    "msquare = np.array([\n",
    "    [17, 24,  1,  8, 15],\n",
    "    [23,  5,  7, 14, 16],\n",
    "    [ 4,  6, 13, 20, 22],\n",
    "    [10, 12, 19, 21,  3],\n",
    "    [11, 18, 25,  2,  9]])\n",
    "```\n",
    "#### Assignment 5.1\n",
    "\n",
    "Write a function **is_magic_square()** that takes a matrix as input and returns **True** if the matrix is a magic square and **False** otherwise. Use the matrix above to test your function.\n",
    "\n",
    "*Hint*: Use np.diag and np.fliplr to get the diagonals of a matrix.\n"
   ]
  },
  {
   "cell_type": "code",
   "execution_count": 2,
   "metadata": {},
   "outputs": [
    {
     "data": {
      "text/plain": [
       "True"
      ]
     },
     "execution_count": 2,
     "metadata": {},
     "output_type": "execute_result"
    }
   ],
   "source": [
    "msquare = np.array([\n",
    "    [17, 24,  1,  8, 15],\n",
    "    [23,  5,  7, 14, 16],\n",
    "    [ 4,  6, 13, 20, 22],\n",
    "    [10, 12, 19, 21,  3],\n",
    "    [11, 18, 25,  2,  9]])\n",
    "\n",
    "def is_magic_square(X):\n",
    "    \n",
    "    a1=min(X.sum(axis = 0))\n",
    "    a2=max(X.sum(axis = 0))\n",
    "    a3=min(X.sum(axis = 1))\n",
    "    a4=max(X.sum(axis = 1))\n",
    "    a5=np.diag(X).sum()\n",
    "    a6=np.diag(np.fliplr(X)).sum()\n",
    "    \n",
    "    if a1==a2==a3==a4==a5==a6:\n",
    "        return True\n",
    "    else:\n",
    "        return False\n",
    "    \n",
    "        \n",
    "is_magic_square(msquare)"
   ]
  },
  {
   "cell_type": "code",
   "execution_count": null,
   "metadata": {},
   "outputs": [],
   "source": []
  },
  {
   "cell_type": "markdown",
   "metadata": {},
   "source": [
    "### Generating Magic Squares\n",
    "\n",
    "The above function can be used in a (crude) method to generate magic squares\n",
    "\n",
    "#### Assignment 5.2\n",
    "\n",
    "Write a function **generateMagicSquare()** that generates a 3x3 magic square (containing numbers 1...9). \n",
    "\n",
    "Use the following algorithm:\n",
    "\n",
    "  * Use the function **is_magic_square()** from the previous question to check if a matrix is a valid magic square or not.\n",
    "  * Generate random 3x3 squares filled with the exact numbers 1..9 in some order and check if that matrix is a magic square. If so, print the magic square.\n",
    "  \n",
    "  * You may need to generate 100,000 matrices to find one that is a magic square (by chance).\n",
    "  \n",
    "*Hint*: Use np.random.permutation to generate a random permutation of an array."
   ]
  },
  {
   "cell_type": "code",
   "execution_count": 3,
   "metadata": {},
   "outputs": [
    {
     "name": "stdout",
     "output_type": "stream",
     "text": [
      "[[8 3 4]\n",
      " [1 5 9]\n",
      " [6 7 2]]\n"
     ]
    }
   ],
   "source": [
    "def generateMagicSquare():\n",
    "    for i in range(100000):\n",
    "        a = np.random.permutation(np.arange(1,10)).reshape((3,3))\n",
    "        if is_magic_square(a):\n",
    "            print(a)\n",
    "            break\n",
    "        \n",
    "generateMagicSquare()"
   ]
  },
  {
   "cell_type": "markdown",
   "metadata": {},
   "source": [
    "### More grading\n",
    "\n",
    "This question continues from the exercise made in class (see file 'Week5_class_part1_numpy.ipynb'). We quickly recreate the dataset here, see the aforementioned files for details.\n",
    "\n"
   ]
  },
  {
   "cell_type": "code",
   "execution_count": 4,
   "metadata": {},
   "outputs": [
    {
     "name": "stdout",
     "output_type": "stream",
     "text": [
      "[7.78052274196028 7.626971690696596 7.6804664619422365 7.967539048838483\n",
      " 7.666909333248285 8.011163106702446 7.983003442897682 8.303631617277786]\n"
     ]
    }
   ],
   "source": [
    "# create students and grades arrays, using random grades\n",
    "students = np.array(['Anne', 'Bob', 'Mary', 'John', 'Julia', 'Mike', 'Susan', 'Zach'])\n",
    "grades = np.random.rand( 8,20 )* 6 + 4\n",
    "\n",
    "# create an array with the average grades per student \n",
    "avg_grades = grades.mean(axis=1)\n",
    "\n",
    "# create a masked array where we mask away all grades below 5.8\n",
    "masked_grades = np.ma.masked_array( grades, grades < 5.8 )\n",
    "\n",
    "# calculate the averages per student\n",
    "avg_grades = masked_grades.mean( axis = 1 ) \n",
    "\n",
    "# print the array to see what we have\n",
    "print(avg_grades)"
   ]
  },
  {
   "cell_type": "markdown",
   "metadata": {},
   "source": [
    "#### Assignment 5.3\n",
    "\n",
    "Using the above data, do the following:\n",
    "\n",
    "  1. Plot the avarage grade per student in a bar chart, set the axis and labels accordingly.\n",
    "  2. Plot the average grades for each of the 20 assignments.\n",
    "  3. Try to fit a line to this line and try to predict the average grades for the next assignment. Plot the result.\n",
    "     \n",
    "     *Hint* Use np.polyfit() to find a fitting function. Use np.polyval() to evaluate a polynomial. How does the degree of the polynomial effect the fitting?"
   ]
  },
  {
   "cell_type": "code",
   "execution_count": 8,
   "metadata": {},
   "outputs": [
    {
     "data": {
      "image/png": "[encoded data removed]",
      "text/plain": [
       "<Figure size 432x288 with 1 Axes>"
      ]
     },
     "metadata": {
      "needs_background": "light"
     },
     "output_type": "display_data"
    }
   ],
   "source": [
    "import matplotlib.pyplot as plt\n",
    "\n",
    "colors=['YELLOW','GREENYELLOW','LIME', 'LIGHTSEAGREEN', 'DARKTURQUOISE','DEEPSKYBLUE','ROYALBLUE','NAVY']\n",
    "x_pos = [i for i, p in enumerate(students)]\n",
    "plt.bar(x_pos, avg_grades, color=colors)\n",
    "plt.xlabel(\"Student Name\")\n",
    "plt.ylabel(\"Average Grade\")\n",
    "plt.title(\"Average Grade per Student\")\n",
    "plt.xticks(x_pos, students)\n",
    "\n",
    "plt.show()"
   ]
  },
  {
   "cell_type": "code",
   "execution_count": 6,
   "metadata": {},
   "outputs": [
    {
     "data": {
      "image/png": "[encoded data removed]",
      "text/plain": [
       "<Figure size 432x288 with 1 Axes>"
      ]
     },
     "metadata": {
      "needs_background": "light"
     },
     "output_type": "display_data"
    }
   ],
   "source": [
    "avg_assignment_grades = masked_grades.mean( axis = 0 )\n",
    "\n",
    "colors=['YELLOW','GREENYELLOW','LIME', 'LIGHTSEAGREEN', 'DARKTURQUOISE','DEEPSKYBLUE','ROYALBLUE','NAVY']\n",
    "x_pos = [i+1 for i, p in enumerate(avg_assignment_grades)]\n",
    "plt.bar(x_pos, avg_assignment_grades,color=colors)\n",
    "plt.xlabel(\"Assignment\")\n",
    "plt.ylabel(\"Average Grade\")\n",
    "plt.title(\"Average Grade per Assignment\")\n",
    "plt.xticks(x_pos)\n",
    "\n",
    "plt.show()"
   ]
  },
  {
   "cell_type": "code",
   "execution_count": 7,
   "metadata": {},
   "outputs": [
    {
     "data": {
      "image/png": "[encoded data removed]",
      "text/plain": [
       "<Figure size 432x288 with 1 Axes>"
      ]
     },
     "metadata": {
      "needs_background": "light"
     },
     "output_type": "display_data"
    },
    {
     "name": "stdout",
     "output_type": "stream",
     "text": [
      "Predicted average grade of assignment #21 is: 7.606610841717395\n"
     ]
    }
   ],
   "source": [
    "z = np.polyfit(x_pos, avg_assignment_grades, 1)\n",
    "#The higher the degree of polynomial, the better fit the line\n",
    "p = np.poly1d(z)\n",
    "\n",
    "xp = np.linspace(1, 20, 20)\n",
    "\n",
    "plt.plot(x_pos, avg_assignment_grades, '.', xp, p(xp), '-')\n",
    "\n",
    "plt.xlabel(\"Assignment\")\n",
    "plt.ylabel(\"Average Grade\")\n",
    "plt.title(\"Average Grade per Assignment\")\n",
    "plt.xticks(x_pos)\n",
    "plt.ylim(0,10)\n",
    "\n",
    "plt.show()\n",
    "\n",
    "print(\"Predicted average grade of assignment #21 is:\", np.polyval(z,21))"
   ]
  }
 ],
 "metadata": {
  "kernelspec": {
   "display_name": "Python 3",
   "language": "python",
   "name": "python3"
  },
  "language_info": {
   "codemirror_mode": {
    "name": "ipython",
    "version": 3
   },
   "file_extension": ".py",
   "mimetype": "text/x-python",
   "name": "python",
   "nbconvert_exporter": "python",
   "pygments_lexer": "ipython3",
   "version": "3.7.3"
  }
 },
 "nbformat": 4,
 "nbformat_minor": 2
}
