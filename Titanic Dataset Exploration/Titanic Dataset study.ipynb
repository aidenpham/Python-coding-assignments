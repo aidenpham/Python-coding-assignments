{
 "cells": [
  {
   "cell_type": "markdown",
   "metadata": {},
   "source": [
    "## Assignment Week 6\n",
    "\n",
    "This week we are using Pandas."
   ]
  },
  {
   "cell_type": "code",
   "execution_count": 10,
   "metadata": {},
   "outputs": [],
   "source": [
    "%matplotlib inline\n",
    "import pandas as pd\n",
    "import numpy as np\n",
    "import matplotlib.pyplot as plt\n",
    "plt.style.use('ggplot')"
   ]
  },
  {
   "cell_type": "markdown",
   "metadata": {},
   "source": [
    "## RMS Titanic \n",
    "\n",
    "One file is provided:\n",
    "  * ```titanic.csv``` - this file contains titanic passenger information\n",
    "\n",
    "The file ```titanic.csv``` provides passenger information on the ship RMS Titanic that sank on her maiden voyage on April 15, 1912. "
   ]
  },
  {
   "cell_type": "markdown",
   "metadata": {},
   "source": [
    "**1.** Read the passenger information of the Titanic. Show an overview of _unique_ last names of the passenger list (so ignore the first names and the \"Mr\", \"Mrs.\", etc) **and** determine the number of different last names."
   ]
  },
  {
   "cell_type": "code",
   "execution_count": 11,
   "metadata": {},
   "outputs": [
    {
     "name": "stdout",
     "output_type": "stream",
     "text": [
      "['Kelly' 'Wilkes' 'Myles' 'Wirz' 'Hirvonen' 'Svensson' 'Connolly'\n",
      " 'Caldwell' 'Abrahim' 'Davies']\n",
      "The number of different last names is: 352\n"
     ]
    }
   ],
   "source": [
    "df = pd.read_csv('titanic.csv')\n",
    "df['Last_Name'] = ''                             # Add a new column called Last_Name in dataframe\n",
    "\n",
    "for i in range(len(df)):\n",
    "    name_split = df.loc[i,'Name'].split(',',1)   # Split the name at the comma\n",
    "    l_name = name_split[0]                       # First element is the last name\n",
    "    df.loc[i,'Last_Name'] = l_name               # Add to the Last_Name column\n",
    "\n",
    "unique_last_name = df['Last_Name'].unique()      # Keep only unique last names in an array\n",
    "print(unique_last_name[:10])                     # Show the first 10 unique last names\n",
    "print('The number of different last names is:',len(unique_last_name))"
   ]
  },
  {
   "cell_type": "markdown",
   "metadata": {},
   "source": [
    "**2.** Assuming that passengers with the same last name form a family, determine how big the largest family aboard the Titanic was."
   ]
  },
  {
   "cell_type": "code",
   "execution_count": 12,
   "metadata": {},
   "outputs": [
    {
     "name": "stdout",
     "output_type": "stream",
     "text": [
      "The largest family onboard has 4 members.\n"
     ]
    }
   ],
   "source": [
    "max_number = max(df['Last_Name'].value_counts()) # Count the frequency of each last name,\n",
    "                                                 # then find the highest frequency\n",
    "print('The largest family onboard has', max_number, 'members.')"
   ]
  },
  {
   "cell_type": "markdown",
   "metadata": {},
   "source": [
    "**3.** Drop all the rows for which the Fare is 0 or NaN. Store the result."
   ]
  },
  {
   "cell_type": "code",
   "execution_count": 13,
   "metadata": {},
   "outputs": [
    {
     "name": "stdout",
     "output_type": "stream",
     "text": [
      "     PassengerId  Pclass                                               Name  \\\n",
      "12           904       1      Snyder, Mrs. John Pillsbury (Nelle Stevenson)   \n",
      "14           906       1  Chaffee, Mrs. Herbert Fuller (Carrie Constance...   \n",
      "24           916       1    Ryerson, Mrs. Arthur Larned (Emily Maria Borie)   \n",
      "26           918       1                       Ostby, Miss. Helene Ragnhild   \n",
      "28           920       1                            Brady, Mr. John Bertram   \n",
      "34           926       1                           Mock, Mr. Philipp Edmund   \n",
      "44           936       1   Kimball, Mrs. Edwin Nelson Jr (Gertrude Parsons)   \n",
      "46           938       1                           Chevre, Mr. Paul Romaine   \n",
      "48           940       1    Bucknell, Mrs. William Robert (Emma Eliza Ward)   \n",
      "50           942       1                           Smith, Mr. Lucien Philip   \n",
      "53           945       1                         Fortune, Miss. Ethel Flora   \n",
      "57           949       3                      Abelseth, Mr. Olaus Jorgensen   \n",
      "59           951       1                        Chaudanson, Miss. Victorine   \n",
      "64           956       1                        Ryerson, Master. John Borie   \n",
      "68           960       1                    Tucker, Mr. Gilbert Milligan Jr   \n",
      "69           961       1                Fortune, Mrs. Mark (Mary McDougald)   \n",
      "73           965       1                    Ovies y Rodriguez, Mr. Servando   \n",
      "74           966       1                               Geiger, Miss. Amalie   \n",
      "75           967       1                                 Keeping, Mr. Edwin   \n",
      "77           969       1  Cornell, Mrs. Robert Clifford (Malvina Helen L...   \n",
      "81           973       1                                 Straus, Mr. Isidor   \n",
      "92           984       1               Davidson, Mrs. Thornton (Orian Hays)   \n",
      "96           988       1  Cavendish, Mrs. Tyrell William (Julia Florence...   \n",
      "100          992       1  Stengel, Mrs. Charles Emil Henry (Annie May Mo...   \n",
      "109         1001       2                                  Swane, Mr. George   \n",
      "112         1004       1                           Evans, Miss. Edith Corse   \n",
      "114         1006       1             Straus, Mrs. Isidor (Rosalie Ida Blun)   \n",
      "117         1009       3                    Sandstrom, Miss. Beatrice Irene   \n",
      "118         1010       1                               Beattie, Mr. Thomson   \n",
      "122         1014       1                    Schabert, Mrs. Paul (Emma Mock)   \n",
      "..           ...     ...                                                ...   \n",
      "287         1179       1                         Snyder, Mr. John Pillsbury   \n",
      "293         1185       1                              Dodge, Dr. Washington   \n",
      "305         1197       1  Crosby, Mrs. Edward Gifford (Catherine Elizabe...   \n",
      "306         1198       1               Allison, Mr. Hudson Joshua Creighton   \n",
      "308         1200       1                         Hays, Mr. Charles Melville   \n",
      "314         1206       1              White, Mrs. John Stuart (Ella Holmes)   \n",
      "316         1208       1                      Spencer, Mr. William Augustus   \n",
      "321         1213       3                              Krekorian, Mr. Neshan   \n",
      "322         1214       2                                 Nesson, Mr. Israel   \n",
      "326         1218       2                       Becker, Miss. Ruth Elizabeth   \n",
      "331         1223       1                       Dulles, Mr. William Crothers   \n",
      "335         1227       1                           Maguire, Mr. John Edward   \n",
      "343         1235       1  Cardeza, Mrs. James Warburton Martinez (Charlo...   \n",
      "350         1242       1       Greenfield, Mrs. Leo David (Blanche Strouse)   \n",
      "355         1247       1                           Julian, Mr. Henry Forbes   \n",
      "356         1248       1     Brown, Mrs. John Murray (Caroline Lane Lamson)   \n",
      "364         1256       1       Harder, Mrs. George Achilles (Dorothy Annan)   \n",
      "371         1263       1                          Wilson, Miss. Helen Alice   \n",
      "374         1266       1              Dodge, Mrs. Washington (Ruth Vidaver)   \n",
      "378         1270       1                        Hipkins, Mr. William Edward   \n",
      "390         1282       1                         Payne, Mr. Vivian Ponsonby   \n",
      "391         1283       1     Lines, Mrs. Ernest H (Elizabeth Lindsey James)   \n",
      "395         1287       1     Smith, Mrs. Lucien Philip (Mary Eloise Hughes)   \n",
      "397         1289       1  Frolicher-Stehli, Mrs. Maxmillian (Margaretha ...   \n",
      "400         1292       1                            Bonnell, Miss. Caroline   \n",
      "404         1296       1                       Frauenthal, Mr. Isaac Gerald   \n",
      "405         1297       2       Nourney, Mr. Alfred (Baron von Drachstedt\")\"   \n",
      "407         1299       1                         Widener, Mr. George Dunton   \n",
      "411         1303       1    Minahan, Mrs. William Edward (Lillian E Thorpe)   \n",
      "414         1306       1                       Oliva y Ocana, Dona. Fermina   \n",
      "\n",
      "        Sex   Age  SibSp  Parch         Ticket      Fare            Cabin  \\\n",
      "12   female  23.0      1      0          21228   82.2667              B45   \n",
      "14   female  47.0      1      0    W.E.P. 5734   61.1750              E31   \n",
      "24   female  48.0      1      3       PC 17608  262.3750  B57 B59 B63 B66   \n",
      "26   female  22.0      0      1         113509   61.9792              B36   \n",
      "28     male  41.0      0      0         113054   30.5000              A21   \n",
      "34     male  30.0      1      0          13236   57.7500              C78   \n",
      "44   female  45.0      1      0          11753   52.5542              D19   \n",
      "46     male  45.0      0      0       PC 17594   29.7000               A9   \n",
      "48   female  60.0      0      0          11813   76.2917              D15   \n",
      "50     male  24.0      1      0          13695   60.0000              C31   \n",
      "53   female  28.0      3      2          19950  263.0000      C23 C25 C27   \n",
      "57     male  25.0      0      0         348122    7.6500            F G63   \n",
      "59   female  36.0      0      0       PC 17608  262.3750              B61   \n",
      "64     male  13.0      2      2       PC 17608  262.3750  B57 B59 B63 B66   \n",
      "68     male  31.0      0      0           2543   28.5375              C53   \n",
      "69   female  60.0      1      4          19950  263.0000      C23 C25 C27   \n",
      "73     male  28.5      0      0       PC 17562   27.7208              D43   \n",
      "74   female  35.0      0      0         113503  211.5000             C130   \n",
      "75     male  32.5      0      0         113503  211.5000             C132   \n",
      "77   female  55.0      2      0          11770   25.7000             C101   \n",
      "81     male  67.0      1      0       PC 17483  221.7792          C55 C57   \n",
      "92   female  27.0      1      2     F.C. 12750   52.0000              B71   \n",
      "96   female  76.0      1      0          19877   78.8500              C46   \n",
      "100  female  43.0      1      0          11778   55.4417             C116   \n",
      "109    male  18.5      0      0         248734   13.0000                F   \n",
      "112  female  36.0      0      0       PC 17531   31.6792              A29   \n",
      "114  female  63.0      1      0       PC 17483  221.7792          C55 C57   \n",
      "117  female   1.0      1      1        PP 9549   16.7000               G6   \n",
      "118    male  36.0      0      0          13050   75.2417               C6   \n",
      "122  female  35.0      1      0          13236   57.7500              C28   \n",
      "..      ...   ...    ...    ...            ...       ...              ...   \n",
      "287    male  24.0      1      0          21228   82.2667              B45   \n",
      "293    male  53.0      1      1          33638   81.8583              A34   \n",
      "305  female  64.0      1      1         112901   26.5500              B26   \n",
      "306    male  30.0      1      2         113781  151.5500          C22 C26   \n",
      "308    male  55.0      1      1          12749   93.5000              B69   \n",
      "314  female  55.0      0      0       PC 17760  135.6333              C32   \n",
      "316    male  57.0      1      0       PC 17569  146.5208              B78   \n",
      "321    male  25.0      0      0           2654    7.2292            F E57   \n",
      "322    male  26.0      0      0         244368   13.0000               F2   \n",
      "326  female  12.0      2      1         230136   39.0000               F4   \n",
      "331    male  39.0      0      0       PC 17580   29.7000              A18   \n",
      "335    male  30.0      0      0         110469   26.0000             C106   \n",
      "343  female  58.0      0      1       PC 17755  512.3292      B51 B53 B55   \n",
      "350  female  45.0      0      1       PC 17759   63.3583          D10 D12   \n",
      "355    male  50.0      0      0         113044   26.0000              E60   \n",
      "356  female  59.0      2      0          11769   51.4792             C101   \n",
      "364  female  25.0      1      0          11765   55.4417              E50   \n",
      "371  female  31.0      0      0          16966  134.5000          E39 E41   \n",
      "374  female  54.0      1      1          33638   81.8583              A34   \n",
      "378    male  55.0      0      0            680   50.0000              C39   \n",
      "390    male  23.0      0      0          12749   93.5000              B24   \n",
      "391  female  51.0      0      1       PC 17592   39.4000              D28   \n",
      "395  female  18.0      1      0          13695   60.0000              C31   \n",
      "397  female  48.0      1      1          13567   79.2000              B41   \n",
      "400  female  30.0      0      0          36928  164.8667               C7   \n",
      "404    male  43.0      1      0          17765   27.7208              D40   \n",
      "405    male  20.0      0      0  SC/PARIS 2166   13.8625              D38   \n",
      "407    male  50.0      1      1         113503  211.5000              C80   \n",
      "411  female  37.0      1      0          19928   90.0000              C78   \n",
      "414  female  39.0      0      0       PC 17758  108.9000             C105   \n",
      "\n",
      "    Embarked          Last_Name  \n",
      "12         S             Snyder  \n",
      "14         S            Chaffee  \n",
      "24         C            Ryerson  \n",
      "26         C              Ostby  \n",
      "28         S              Brady  \n",
      "34         C               Mock  \n",
      "44         S            Kimball  \n",
      "46         C             Chevre  \n",
      "48         C           Bucknell  \n",
      "50         S              Smith  \n",
      "53         S            Fortune  \n",
      "57         S           Abelseth  \n",
      "59         C         Chaudanson  \n",
      "64         C            Ryerson  \n",
      "68         C             Tucker  \n",
      "69         S            Fortune  \n",
      "73         C  Ovies y Rodriguez  \n",
      "74         C             Geiger  \n",
      "75         C            Keeping  \n",
      "77         S            Cornell  \n",
      "81         S             Straus  \n",
      "92         S           Davidson  \n",
      "96         S          Cavendish  \n",
      "100        C            Stengel  \n",
      "109        S              Swane  \n",
      "112        C              Evans  \n",
      "114        S             Straus  \n",
      "117        S          Sandstrom  \n",
      "118        C            Beattie  \n",
      "122        C           Schabert  \n",
      "..       ...                ...  \n",
      "287        S             Snyder  \n",
      "293        S              Dodge  \n",
      "305        S             Crosby  \n",
      "306        S            Allison  \n",
      "308        S               Hays  \n",
      "314        C              White  \n",
      "316        C            Spencer  \n",
      "321        C          Krekorian  \n",
      "322        S             Nesson  \n",
      "326        S             Becker  \n",
      "331        C             Dulles  \n",
      "335        S            Maguire  \n",
      "343        C            Cardeza  \n",
      "350        C         Greenfield  \n",
      "355        S             Julian  \n",
      "356        S              Brown  \n",
      "364        C             Harder  \n",
      "371        C             Wilson  \n",
      "374        S              Dodge  \n",
      "378        S            Hipkins  \n",
      "390        S              Payne  \n",
      "391        S              Lines  \n",
      "395        S              Smith  \n",
      "397        C   Frolicher-Stehli  \n",
      "400        S            Bonnell  \n",
      "404        C         Frauenthal  \n",
      "405        C            Nourney  \n",
      "407        C            Widener  \n",
      "411        Q            Minahan  \n",
      "414        C      Oliva y Ocana  \n",
      "\n",
      "[86 rows x 12 columns]\n"
     ]
    }
   ],
   "source": [
    "df2 = df.dropna()\n",
    "df3 = df2[df2.Fare != 0]\n",
    "\n",
    "print(df3)"
   ]
  },
  {
   "cell_type": "markdown",
   "metadata": {},
   "source": [
    "**4.** Show the average Fare price per Passenger Class (Pclass) in a bar chart."
   ]
  },
  {
   "cell_type": "code",
   "execution_count": 14,
   "metadata": {},
   "outputs": [
    {
     "data": {
      "text/plain": [
       "Text(0, 0.5, 'Average Fare Price')"
      ]
     },
     "execution_count": 14,
     "metadata": {},
     "output_type": "execute_result"
    },
    {
     "data": {
      "image/png": "[encoded data removed]",
      "text/plain": [
       "<Figure size 432x288 with 1 Axes>"
      ]
     },
     "metadata": {},
     "output_type": "display_data"
    }
   ],
   "source": [
    "df4 = df.groupby('Pclass')['Fare'].mean()\n",
    "plot1 = df4.plot.bar(title = \"Average Fare Price per Passenger Class\", rot = 0, color = '#4682B4')\n",
    "\n",
    "plot1.set_xlabel(\"Passenger Class\")\n",
    "plot1.set_ylabel(\"Average Fare Price\")"
   ]
  },
  {
   "cell_type": "markdown",
   "metadata": {},
   "source": [
    "**5.** Plot a histogram of the passenger's age, grouped by sex. So the end-result should show separate  histograms for males and females."
   ]
  },
  {
   "cell_type": "code",
   "execution_count": 27,
   "metadata": {},
   "outputs": [
    {
     "data": {
      "text/plain": [
       "Text(0.5, 1.1, \"Histogram of the passenger's age, grouped by sex\")"
      ]
     },
     "execution_count": 27,
     "metadata": {},
     "output_type": "execute_result"
    },
    {
     "data": {
      "image/png": "[encoded data removed]",
      "text/plain": [
       "<Figure size 432x288 with 2 Axes>"
      ]
     },
     "metadata": {},
     "output_type": "display_data"
    }
   ],
   "source": [
    "plot2 = df['Age'].hist(by=df['Sex'],rot = 0)\n",
    "plt.suptitle(\"Histogram of the passenger's age, grouped by sex\", y =1.1, size = 16)\n"
   ]
  }
 ],
 "metadata": {
  "anaconda-cloud": {},
  "kernelspec": {
   "display_name": "Python 3",
   "language": "python",
   "name": "python3"
  },
  "language_info": {
   "codemirror_mode": {
    "name": "ipython",
    "version": 3
   },
   "file_extension": ".py",
   "mimetype": "text/x-python",
   "name": "python",
   "nbconvert_exporter": "python",
   "pygments_lexer": "ipython3",
   "version": "3.7.3"
  }
 },
 "nbformat": 4,
 "nbformat_minor": 1
}
